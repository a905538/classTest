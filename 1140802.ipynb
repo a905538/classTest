{
 "cells": [
  {
   "cell_type": "code",
   "execution_count": 5,
   "id": "d082c96e-0699-46a0-9d03-19471e4eda3f",
   "metadata": {},
   "outputs": [
    {
     "name": "stdout",
     "output_type": "stream",
     "text": [
      "       newsId                                title  \\\n",
      "0     6087907  川普火大開除統計局長 數據大幅下修主因曝光！分析師：美國例外論恐破功    \n",
      "1     6087774      台灣關稅開獎20%、鴻海東元換股結盟、聯發科法說 本周大事回顧   \n",
      "2     6087848        全球第二 超越韓商 中國製OLED首次進入蘋果高階機供應鏈   \n",
      "3     6087701     〈熱門股〉宏碁下半年旺季到、迎商用PC換機潮  獲三大法人連8買   \n",
      "4     6087855      〈財報〉加密市場提振 Strategy第二季實現6季來首次獲利   \n",
      "...       ...                                  ...   \n",
      "1415  6073387         《彭博》：川普擬封堵貿易漏洞 恐波及中國對美出口高達七成   \n",
      "1416  6073376       拚資料中心擴張！傳馬斯克xAI再籌120億美元 搶購輝達晶片   \n",
      "1417  6073386           川普稱與菲貿易協議「接近敲定」 小馬可仕赴美爭取讓步   \n",
      "1418  6073383                 川普怒嗆鮑爾「笨蛋」！放話8個月後會走人   \n",
      "1419  6073375            蘋果App Store讓步奏效 傳歐盟可望點頭免罰   \n",
      "\n",
      "                                                summary  \\\n",
      "0                                                  None   \n",
      "1     美國總統川普周五公布台灣關稅稅率 20%，高於日本與韓國的 15%；東元與鴻海周三宣布透過股...   \n",
      "2     在全球面板產業之中，長期以來都是中、韓 “雙雄爭霸”，但南韓以三星和 LG 為代表牢牢占據全...   \n",
      "3     儘管面臨關稅導致消費市場不振，但 PC 品牌宏碁 (2353-TW) 上半年在台灣地區逆勢成...   \n",
      "4     比特幣最大的企業持有者 Strategy 公司（原名 MicroStrategy）(MSTR...   \n",
      "...                                                 ...   \n",
      "1415  美國總統川普正試圖打擊中國藉由第三國轉運出口至美國的供應鏈模式，進一步對中國施壓。根據《彭博...   \n",
      "1416  根據《華爾街日報》(WSJ) 周二 (22 日) 援引知情人士消息報導，美國電動車龍頭特斯拉...   \n",
      "1417  美國總統川普周二 (22 日) 在白宮會見菲律賓總統小馬可仕(Ferdinand Marco...   \n",
      "1418  美國總統川普周二 (22 日) 再度批評聯準會 (Fed) 主席鮑爾，稱他是個「笨蛋」(Nu...   \n",
      "1419  《路透》周二 (22 日) 援引知情人士消息報導，蘋果 (AAPL-US) 對 App St...   \n",
      "\n",
      "                                     link  \n",
      "0     https://m.cnyes.com/news/id/6087907  \n",
      "1     https://m.cnyes.com/news/id/6087774  \n",
      "2     https://m.cnyes.com/news/id/6087848  \n",
      "3     https://m.cnyes.com/news/id/6087701  \n",
      "4     https://m.cnyes.com/news/id/6087855  \n",
      "...                                   ...  \n",
      "1415  https://m.cnyes.com/news/id/6073387  \n",
      "1416  https://m.cnyes.com/news/id/6073376  \n",
      "1417  https://m.cnyes.com/news/id/6073386  \n",
      "1418  https://m.cnyes.com/news/id/6073383  \n",
      "1419  https://m.cnyes.com/news/id/6073375  \n",
      "\n",
      "[1420 rows x 4 columns]\n"
     ]
    }
   ],
   "source": [
    "import requests\n",
    "import pandas as pd\n",
    "import datetime as dt\n",
    "import json\n",
    "\n",
    "url = \"https://api.cnyes.com/media/api/v1/newslist/category/headline\"  # 新聞連結\n",
    "data = []\n",
    "\n",
    "payload = {\n",
    "    \"page\": 1,\n",
    "    \"limit\": 100,\n",
    "    \"isCategoryHeadline\": 1,\n",
    "    \"startAt\": int((dt.datetime.today() - dt.timedelta(days=10)).timestamp()),\n",
    "    \"endAt\": int(dt.datetime.today().timestamp()),\n",
    "}\n",
    "\n",
    "# 抓取第1頁\n",
    "res = requests.get(url, params=payload)\n",
    "jd = json.loads(res.text)\n",
    "data.append(pd.DataFrame(jd[\"items\"][\"data\"]))\n",
    "\n",
    "# 抓取第2頁以後\n",
    "for i in range(2, jd[\"items\"][\"last_page\"] + 1):\n",
    "    payload[\"page\"] = i  # 修正這行\n",
    "    res = requests.get(url, params=payload)\n",
    "    jd = json.loads(res.text)\n",
    "    data.append(pd.DataFrame(jd[\"items\"][\"data\"]))\n",
    "\n",
    "# 合併所有頁面\n",
    "df = pd.concat(data, ignore_index=True)\n",
    "df = df[[\"newsId\", \"title\", \"summary\"]]  # 取出特定欄位\n",
    "df[\"link\"] = df[\"newsId\"].apply(lambda x: \"https://m.cnyes.com/news/id/\" + str(x))  # 建立連結\n",
    "print(df)\n"
   ]
  },
  {
   "cell_type": "code",
   "execution_count": 9,
   "id": "76eeff2d-fa11-4b84-9b30-fbd9d255ee26",
   "metadata": {},
   "outputs": [
    {
     "name": "stdin",
     "output_type": "stream",
     "text": [
      "File `2.py` exists. Overwrite (y/[N])?   y\n"
     ]
    },
    {
     "name": "stdout",
     "output_type": "stream",
     "text": [
      "The following commands were written to file `2.py`:\n",
      "import requests\n",
      "import pandas as pd\n",
      "import datetime as dt\n",
      "import json\n",
      "\n",
      "url = \"https://api.cnyes.com/media/api/v1/newslist/category/headline\"  # 新聞連結\n",
      "data = []\n",
      "\n",
      "payload = {\n",
      "    \"page\": 1,\n",
      "    \"limit\": 100,\n",
      "    \"isCategoryHeadline\": 1,\n",
      "    \"startAt\": int((dt.datetime.today() - dt.timedelta(days=10)).timestamp()),\n",
      "    \"endAt\": int(dt.datetime.today().timestamp()),\n",
      "}\n",
      "\n",
      "# 抓取第1頁\n",
      "res = requests.get(url, params=payload)\n",
      "jd = json.loads(res.text)\n",
      "data.append(pd.DataFrame(jd[\"items\"][\"data\"]))\n",
      "\n",
      "# 抓取第2頁以後\n",
      "for i in range(2, jd[\"items\"][\"last_page\"] + 1):\n",
      "    payload[\"page\"] = i  # 修正這行\n",
      "    res = requests.get(url, params=payload)\n",
      "    jd = json.loads(res.text)\n",
      "    data.append(pd.DataFrame(jd[\"items\"][\"data\"]))\n",
      "\n",
      "# 合併所有頁面\n",
      "df = pd.concat(data, ignore_index=True)\n",
      "df = df[[\"newsId\", \"title\", \"summary\"]]  # 取出特定欄位\n",
      "df[\"link\"] = df[\"newsId\"].apply(lambda x: \"https://m.cnyes.com/news/id/\" + str(x))  # 建立連結\n",
      "print(df)\n"
     ]
    }
   ],
   "source": [
    "%save 2.py 5"
   ]
  },
  {
   "cell_type": "code",
   "execution_count": null,
   "id": "125deabb-2e65-4515-a160-6332bba53b26",
   "metadata": {},
   "outputs": [],
   "source": []
  }
 ],
 "metadata": {
  "kernelspec": {
   "display_name": "Python [conda env:base] *",
   "language": "python",
   "name": "conda-base-py"
  },
  "language_info": {
   "codemirror_mode": {
    "name": "ipython",
    "version": 3
   },
   "file_extension": ".py",
   "mimetype": "text/x-python",
   "name": "python",
   "nbconvert_exporter": "python",
   "pygments_lexer": "ipython3",
   "version": "3.12.7"
  }
 },
 "nbformat": 4,
 "nbformat_minor": 5
}
