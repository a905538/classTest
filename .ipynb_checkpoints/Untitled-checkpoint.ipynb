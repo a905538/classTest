{
 "cells": [
  {
   "cell_type": "code",
   "execution_count": null,
   "id": "d082c96e-0699-46a0-9d03-19471e4eda3f",
   "metadata": {},
   "outputs": [
    {
     "name": "stdout",
     "output_type": "stream",
     "text": [
      "dict_keys(['items', 'message', 'statusCode'])\n",
      "<class 'dict'>\n",
      "9\n"
     ]
    }
   ],
   "source": [
    "import requests\n",
    "import pandas as pd\n",
    "import datetime as dt\n",
    "import json\n",
    "url = \"https://api.cnyes.com/media/api/v1/newslist/category/headline\" #新聞連結\n",
    "payload = {\n",
    "    \"page\":2,\n",
    "    \"limit\":30,\n",
    "    \"isCategoryHeadline\":1,\n",
    "    'startAt': int((dt.datetime.today()- dt.timedelta(days=11)).timestamp()),\n",
    "    'endAt': int(dt.datetime.today().timestamp()),\n",
    "} #參數\n",
    "res = requests.get(url, params = payload) #連線鉅亨網\n",
    "jd = json.loads(res.text) #解析JSON轉成dict\n",
    "df = pd.DataFrame(jd['items']['data']) #取出新聞資料\n",
    "df = df[['newsId', 'title', 'summary']]#取出特定欄位\n",
    "df['link'] = df['newsId'].apply(lambda  x: 'https://m.cnyes.com/news/id/' + str(x))#建立連結\n",
    "df.to_csv('news.csv', encoding = 'utf-8-sig')\n",
    "print(df)"
   ]
  },
  {
   "cell_type": "code",
   "execution_count": null,
   "id": "76eeff2d-fa11-4b84-9b30-fbd9d255ee26",
   "metadata": {},
   "outputs": [],
   "source": [
    "%save 1.py "
   ]
  }
 ],
 "metadata": {
  "kernelspec": {
   "display_name": "Python [conda env:base] *",
   "language": "python",
   "name": "conda-base-py"
  },
  "language_info": {
   "codemirror_mode": {
    "name": "ipython",
    "version": 3
   },
   "file_extension": ".py",
   "mimetype": "text/x-python",
   "name": "python",
   "nbconvert_exporter": "python",
   "pygments_lexer": "ipython3",
   "version": "3.12.7"
  }
 },
 "nbformat": 4,
 "nbformat_minor": 5
}
