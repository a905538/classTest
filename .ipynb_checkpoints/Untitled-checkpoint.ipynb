{
 "cells": [
  {
   "cell_type": "code",
   "execution_count": 3,
   "id": "d082c96e-0699-46a0-9d03-19471e4eda3f",
   "metadata": {},
   "outputs": [
    {
     "name": "stdout",
     "output_type": "stream",
     "text": [
      "dict_keys(['items', 'message', 'statusCode'])\n",
      "<class 'dict'>\n",
      "9\n"
     ]
    }
   ],
   "source": [
    "import requests\n",
    "import pandas as pd\n",
    "import json\n",
    "\n",
    "url = \"https://api.cnyes.com/media/api/v1/newslist/category/headline\"\n",
    "payload = {\n",
    "    'page': 2,\n",
    "    'limit': 30,\n",
    "    'isCategoryHeadline': 1,\n",
    "    'startAt': 1752646609,\n",
    "    'endAt': 1753510609,\n",
    "}\n",
    "\n",
    "res = requests.get(url, params=payload)\n",
    "\n",
    "# 修正錯字：res.test -> res.text\n",
    "#jd = json.loads(res.text)\n",
    "\n",
    "# jd['items'] 是列表，應直接傳入 DataFrame，拼字錯誤 pd.DataFrams -> pd.DataFrame\n",
    "#df = pd.DataFrame(jd['items'])\n",
    "\n",
    "# 選擇需要的欄位，應用 df[['欄位1','欄位2',...]]\n",
    "#df = df[['newsId', 'title', 'summary']]\n",
    "\n",
    "# 產生連結欄位\n",
    "#df['link'] = df['newsId'].apply(lambda x: 'https://m.cnyes.com/news/id/' + str(x))\n",
    "\n",
    "# 輸出 csv，最好指定 encoding 防止亂碼\n",
    "#df.to_csv('news.csv', index=False, encoding='utf-8-sig')"
   ]
  },
  {
   "cell_type": "code",
   "execution_count": null,
   "id": "76eeff2d-fa11-4b84-9b30-fbd9d255ee26",
   "metadata": {},
   "outputs": [],
   "source": [
    "%save 1.py "
   ]
  }
 ],
 "metadata": {
  "kernelspec": {
   "display_name": "Python [conda env:base] *",
   "language": "python",
   "name": "conda-base-py"
  },
  "language_info": {
   "codemirror_mode": {
    "name": "ipython",
    "version": 3
   },
   "file_extension": ".py",
   "mimetype": "text/x-python",
   "name": "python",
   "nbconvert_exporter": "python",
   "pygments_lexer": "ipython3",
   "version": "3.12.7"
  }
 },
 "nbformat": 4,
 "nbformat_minor": 5
}
